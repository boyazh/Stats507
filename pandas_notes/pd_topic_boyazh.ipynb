{
 "cells": [
  {
   "cell_type": "markdown",
   "id": "d5a47a08",
   "metadata": {},
   "source": [
    "# Question 0"
   ]
  },
  {
   "cell_type": "markdown",
   "id": "4dbca24f",
   "metadata": {},
   "source": [
    "## Introduction to Python Idioms  \n",
    "  \n",
    "Boya Zhang (boyazh@umich.edu)   \n",
    "\n",
    "10.16.21\n"
   ]
  },
  {
   "cell_type": "markdown",
   "id": "66a26ff4",
   "metadata": {},
   "source": [
    "## Overview  \n",
    "  \n",
    "1. if-then/if-then-else\n",
    "2. splitting\n",
    "3. building criteria"
   ]
  },
  {
   "cell_type": "markdown",
   "id": "b979afdb",
   "metadata": {},
   "source": [
    "## 1. if-then/ if-then-else \n",
    "\n",
    "1.1 You can use if-then to select specific elements on one column, and add assignments to another one or more columns: \n",
    "        "
   ]
  },
  {
   "cell_type": "code",
   "execution_count": null,
   "id": "407846f0",
   "metadata": {},
   "outputs": [],
   "source": [
    "import pandas as pd\n",
    "df = pd.DataFrame({\"A\": [1, 3, 5, 7, 9], \"B\": [10, 20, 30, 40, 50], \"C\": [100, 200, 300, 400, 500]})\n",
    "df"
   ]
  },
  {
   "cell_type": "markdown",
   "id": "471b8054",
   "metadata": {},
   "source": [
    "* To assign to one or more column:"
   ]
  },
  {
   "cell_type": "code",
   "execution_count": null,
   "id": "cf3db49e",
   "metadata": {},
   "outputs": [],
   "source": [
    "df.loc[df.A > 5, 'B'] = '> 5'\n",
    "df"
   ]
  },
  {
   "cell_type": "markdown",
   "id": "60654690",
   "metadata": {},
   "source": [
    "* or"
   ]
  },
  {
   "cell_type": "code",
   "execution_count": null,
   "id": "42bfb75d",
   "metadata": {},
   "outputs": [],
   "source": [
    "df.loc[df.A > 5, ['B','C']] = '> 5'\n",
    "df"
   ]
  },
  {
   "cell_type": "markdown",
   "id": "91fa616b",
   "metadata": {},
   "source": [
    "* You can add another line with different logic, to do the ”-else“"
   ]
  },
  {
   "cell_type": "code",
   "execution_count": null,
   "id": "26e5791e",
   "metadata": {},
   "outputs": [],
   "source": [
    "df.loc[df.A <= 5, ['B','C']] = '< 5'\n",
    "df"
   ]
  },
  {
   "cell_type": "markdown",
   "id": "f4dd4d50",
   "metadata": {},
   "source": [
    "1.2 You can also apply \"if-then-else\" using Numpy's where( ) function"
   ]
  },
  {
   "cell_type": "code",
   "execution_count": null,
   "id": "56bf74a7",
   "metadata": {},
   "outputs": [],
   "source": [
    "import numpy as np\n",
    "import pandas as pd\n",
    "\n",
    "df = pd.DataFrame({\"A\": [1, 3, 5, 7, 9], \"B\": [10, 20, 30, 40, 50], \"C\": [100, 200, 300, 400, 500]})\n",
    "df['new'] = np.where(df['A'] > 5, '> 5', '< 5')\n",
    "df"
   ]
  },
  {
   "cell_type": "markdown",
   "id": "15c73372",
   "metadata": {},
   "source": [
    "## 2. Splitting a frame with a boolean criterion"
   ]
  },
  {
   "cell_type": "markdown",
   "id": "462ec9ed",
   "metadata": {},
   "source": [
    "You can split a data frame with a boolean criterion"
   ]
  },
  {
   "cell_type": "code",
   "execution_count": null,
   "id": "86df2fa4",
   "metadata": {},
   "outputs": [],
   "source": [
    "import numpy as np\n",
    "import pandas as pd\n",
    "\n",
    "df = pd.DataFrame({\"A\": [1, 3, 5, 7, 9], \"B\": [10, 20, 30, 40, 50], \"C\": [100, 200, 300, 400, 500]})\n",
    "df"
   ]
  },
  {
   "cell_type": "code",
   "execution_count": null,
   "id": "b4d38220",
   "metadata": {},
   "outputs": [],
   "source": [
    "df[df['A'] > 5]"
   ]
  },
  {
   "cell_type": "code",
   "execution_count": null,
   "id": "4926911e",
   "metadata": {},
   "outputs": [],
   "source": [
    "df[df['A'] <= 5]"
   ]
  },
  {
   "cell_type": "markdown",
   "id": "1b3ec973",
   "metadata": {},
   "source": [
    "## 3. Building criteria \n",
    "You can build your own selection criteria using \"**and**\" or \"**or**\".  \n",
    "\n",
    "3.1 \"... and\""
   ]
  },
  {
   "cell_type": "code",
   "execution_count": null,
   "id": "fa8dcecf",
   "metadata": {},
   "outputs": [],
   "source": [
    "import numpy as np\n",
    "import pandas as pd\n",
    "\n",
    "df = pd.DataFrame({\"A\": [1, 3, 5, 7, 9], \"B\": [10, 20, 30, 40, 50], \"C\": [100, 200, 300, 400, 500]})\n",
    "df"
   ]
  },
  {
   "cell_type": "markdown",
   "id": "01f979de",
   "metadata": {},
   "source": [
    "* ...and"
   ]
  },
  {
   "cell_type": "code",
   "execution_count": null,
   "id": "3146d720",
   "metadata": {},
   "outputs": [],
   "source": [
    "df.loc[(df[\"B\"] < 25) & (df[\"C\"] >= 20), \"A\"]"
   ]
  },
  {
   "cell_type": "markdown",
   "id": "f6268b68",
   "metadata": {},
   "source": [
    "* ...or"
   ]
  },
  {
   "cell_type": "code",
   "execution_count": null,
   "id": "7193a36d",
   "metadata": {},
   "outputs": [],
   "source": [
    "df.loc[(df[\"B\"] < 25) | (df[\"C\"] >= 40), \"A\"]"
   ]
  },
  {
   "cell_type": "markdown",
   "id": "a8eb7750",
   "metadata": {},
   "source": [
    "* you can also assign new value to a existing column using this method"
   ]
  },
  {
   "cell_type": "code",
   "execution_count": null,
   "id": "fa003974",
   "metadata": {},
   "outputs": [],
   "source": [
    "df.loc[(df[\"B\"] > 40) | (df[\"C\"] >= 300), \"A\"] = 'new'\n",
    "df"
   ]
  },
  {
   "cell_type": "markdown",
   "id": "e9861346",
   "metadata": {},
   "source": [
    "## Takeaways  \n",
    "There are a few python idioms that can help speeding up your data managemet.  \n",
    "* \"if-then-else\" allows you easily change the current column or add additional new columns based on the value of a specific column\n",
    "* \"Splitting\" allows you quickly select specific rows based on the value of a specific column\n",
    "* \"Building criteria\" allows you select specific data from one column or assign new values to one column based on the criteria you set up on other columns"
   ]
  },
  {
   "cell_type": "code",
   "execution_count": null,
   "id": "debfd63c",
   "metadata": {},
   "outputs": [],
   "source": []
  }
 ],
 "metadata": {
  "jupytext": {
   "encoding": "# -*- coding: utf-8 -*-",
   "text_representation": {
    "extension": ".py",
    "format_name": "light",
    "format_version": "1.5",
    "jupytext_version": "1.11.5"
   }
  },
  "kernelspec": {
   "display_name": "Python 3",
   "language": "python",
   "name": "python3"
  }
 },
 "nbformat": 4,
 "nbformat_minor": 5
}
